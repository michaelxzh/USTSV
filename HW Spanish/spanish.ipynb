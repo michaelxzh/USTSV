{
 "nbformat": 4,
 "nbformat_minor": 2,
 "metadata": {
  "language_info": {
   "name": "python",
   "codemirror_mode": {
    "name": "ipython",
    "version": 3
   },
   "version": "3.7.6-final"
  },
  "orig_nbformat": 2,
  "file_extension": ".py",
  "mimetype": "text/x-python",
  "name": "python",
  "npconvert_exporter": "python",
  "pygments_lexer": "ipython3",
  "version": 3,
  "kernelspec": {
   "name": "python37664bitbasecondac45d3af898ab4c79a3b5d996d713bfae",
   "display_name": "Python 3.7.6 64-bit ('base': conda)"
  }
 },
 "cells": [
  {
   "cell_type": "code",
   "execution_count": 1,
   "metadata": {},
   "outputs": [],
   "source": [
    "import numpy as np \n",
    "import pandas as pd\n",
    "import seaborn as sns\n",
    "import matplotlib.pyplot as plt\n",
    "import warnings\n",
    "%matplotlib inline\n",
    "%config InlineBackend.figure_format = 'retina'\n",
    "sns.set(color_codes=True)\n",
    "warnings.filterwarnings(\"ignore\")"
   ]
  },
  {
   "cell_type": "code",
   "execution_count": 8,
   "metadata": {},
   "outputs": [],
   "source": [
    "user=pd.read_csv('user_table.csv')"
   ]
  },
  {
   "cell_type": "code",
   "execution_count": 9,
   "metadata": {},
   "outputs": [
    {
     "data": {
      "text/html": "<div>\n<style scoped>\n    .dataframe tbody tr th:only-of-type {\n        vertical-align: middle;\n    }\n\n    .dataframe tbody tr th {\n        vertical-align: top;\n    }\n\n    .dataframe thead th {\n        text-align: right;\n    }\n</style>\n<table border=\"1\" class=\"dataframe\">\n  <thead>\n    <tr style=\"text-align: right;\">\n      <th></th>\n      <th>user_id</th>\n      <th>sex</th>\n      <th>age</th>\n      <th>country</th>\n    </tr>\n  </thead>\n  <tbody>\n    <tr>\n      <th>0</th>\n      <td>765821</td>\n      <td>M</td>\n      <td>20</td>\n      <td>Mexico</td>\n    </tr>\n    <tr>\n      <th>1</th>\n      <td>343561</td>\n      <td>F</td>\n      <td>27</td>\n      <td>Nicaragua</td>\n    </tr>\n    <tr>\n      <th>2</th>\n      <td>118744</td>\n      <td>M</td>\n      <td>23</td>\n      <td>Colombia</td>\n    </tr>\n    <tr>\n      <th>3</th>\n      <td>987753</td>\n      <td>F</td>\n      <td>27</td>\n      <td>Venezuela</td>\n    </tr>\n    <tr>\n      <th>4</th>\n      <td>554597</td>\n      <td>F</td>\n      <td>20</td>\n      <td>Spain</td>\n    </tr>\n  </tbody>\n</table>\n</div>",
      "text/plain": "   user_id sex  age    country\n0   765821   M   20     Mexico\n1   343561   F   27  Nicaragua\n2   118744   M   23   Colombia\n3   987753   F   27  Venezuela\n4   554597   F   20      Spain"
     },
     "execution_count": 9,
     "metadata": {},
     "output_type": "execute_result"
    }
   ],
   "source": [
    "user.head()"
   ]
  },
  {
   "cell_type": "code",
   "execution_count": 4,
   "metadata": {},
   "outputs": [],
   "source": [
    "test=pd.read_csv('test_table.csv')"
   ]
  },
  {
   "cell_type": "code",
   "execution_count": 5,
   "metadata": {},
   "outputs": [
    {
     "data": {
      "text/html": "<div>\n<style scoped>\n    .dataframe tbody tr th:only-of-type {\n        vertical-align: middle;\n    }\n\n    .dataframe tbody tr th {\n        vertical-align: top;\n    }\n\n    .dataframe thead th {\n        text-align: right;\n    }\n</style>\n<table border=\"1\" class=\"dataframe\">\n  <thead>\n    <tr style=\"text-align: right;\">\n      <th></th>\n      <th>user_id</th>\n      <th>date</th>\n      <th>source</th>\n      <th>device</th>\n      <th>browser_language</th>\n      <th>ads_channel</th>\n      <th>browser</th>\n      <th>conversion</th>\n      <th>test</th>\n    </tr>\n  </thead>\n  <tbody>\n    <tr>\n      <th>0</th>\n      <td>315281</td>\n      <td>2015-12-03</td>\n      <td>Direct</td>\n      <td>Web</td>\n      <td>ES</td>\n      <td>NaN</td>\n      <td>IE</td>\n      <td>1</td>\n      <td>0</td>\n    </tr>\n    <tr>\n      <th>1</th>\n      <td>497851</td>\n      <td>2015-12-04</td>\n      <td>Ads</td>\n      <td>Web</td>\n      <td>ES</td>\n      <td>Google</td>\n      <td>IE</td>\n      <td>0</td>\n      <td>1</td>\n    </tr>\n    <tr>\n      <th>2</th>\n      <td>848402</td>\n      <td>2015-12-04</td>\n      <td>Ads</td>\n      <td>Web</td>\n      <td>ES</td>\n      <td>Facebook</td>\n      <td>Chrome</td>\n      <td>0</td>\n      <td>0</td>\n    </tr>\n    <tr>\n      <th>3</th>\n      <td>290051</td>\n      <td>2015-12-03</td>\n      <td>Ads</td>\n      <td>Mobile</td>\n      <td>Other</td>\n      <td>Facebook</td>\n      <td>Android_App</td>\n      <td>0</td>\n      <td>1</td>\n    </tr>\n    <tr>\n      <th>4</th>\n      <td>548435</td>\n      <td>2015-11-30</td>\n      <td>Ads</td>\n      <td>Web</td>\n      <td>ES</td>\n      <td>Google</td>\n      <td>FireFox</td>\n      <td>0</td>\n      <td>1</td>\n    </tr>\n  </tbody>\n</table>\n</div>",
      "text/plain": "   user_id        date  source  device browser_language ads_channel  \\\n0   315281  2015-12-03  Direct     Web               ES         NaN   \n1   497851  2015-12-04     Ads     Web               ES      Google   \n2   848402  2015-12-04     Ads     Web               ES    Facebook   \n3   290051  2015-12-03     Ads  Mobile            Other    Facebook   \n4   548435  2015-11-30     Ads     Web               ES      Google   \n\n       browser  conversion  test  \n0           IE           1     0  \n1           IE           0     1  \n2       Chrome           0     0  \n3  Android_App           0     1  \n4      FireFox           0     1  "
     },
     "execution_count": 5,
     "metadata": {},
     "output_type": "execute_result"
    }
   ],
   "source": [
    "test.head()"
   ]
  },
  {
   "cell_type": "code",
   "execution_count": 10,
   "metadata": {},
   "outputs": [],
   "source": [
    "df=pd.merge(test,user,how='left',on='user_id')"
   ]
  },
  {
   "cell_type": "code",
   "execution_count": 11,
   "metadata": {},
   "outputs": [
    {
     "data": {
      "text/plain": "0    430846\n1     22475\nName: conversion, dtype: int64"
     },
     "execution_count": 11,
     "metadata": {},
     "output_type": "execute_result"
    }
   ],
   "source": [
    "df.conversion.value_counts()"
   ]
  },
  {
   "cell_type": "code",
   "execution_count": 12,
   "metadata": {},
   "outputs": [
    {
     "data": {
      "text/plain": "0    206604\n1      9379\nName: conversion, dtype: int64"
     },
     "execution_count": 12,
     "metadata": {},
     "output_type": "execute_result"
    }
   ],
   "source": [
    "df[df.test==1].conversion.value_counts()"
   ]
  },
  {
   "cell_type": "code",
   "execution_count": 13,
   "metadata": {},
   "outputs": [
    {
     "data": {
      "text/plain": "0    224242\n1     13096\nName: conversion, dtype: int64"
     },
     "execution_count": 13,
     "metadata": {},
     "output_type": "execute_result"
    }
   ],
   "source": [
    "df[df.test==0].conversion.value_counts()"
   ]
  },
  {
   "cell_type": "code",
   "execution_count": null,
   "metadata": {},
   "outputs": [],
   "source": []
  },
  {
   "cell_type": "code",
   "execution_count": null,
   "metadata": {},
   "outputs": [],
   "source": []
  },
  {
   "cell_type": "code",
   "execution_count": null,
   "metadata": {},
   "outputs": [],
   "source": []
  },
  {
   "cell_type": "code",
   "execution_count": null,
   "metadata": {},
   "outputs": [],
   "source": []
  },
  {
   "cell_type": "code",
   "execution_count": null,
   "metadata": {},
   "outputs": [],
   "source": []
  }
 ]
}