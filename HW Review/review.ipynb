{
 "nbformat": 4,
 "nbformat_minor": 2,
 "metadata": {
  "language_info": {
   "name": "python",
   "codemirror_mode": {
    "name": "ipython",
    "version": 3
   },
   "version": "3.7.6-final"
  },
  "orig_nbformat": 2,
  "file_extension": ".py",
  "mimetype": "text/x-python",
  "name": "python",
  "npconvert_exporter": "python",
  "pygments_lexer": "ipython3",
  "version": 3,
  "kernelspec": {
   "name": "python37664bitbaseconda354623a4716f4d89bba91d13f4da92bd",
   "display_name": "Python 3.7.6 64-bit ('base': conda)"
  }
 },
 "cells": [
  {
   "cell_type": "code",
   "execution_count": 115,
   "metadata": {},
   "outputs": [],
   "source": [
    "import pandas as pd\n",
    "import numpy as np \n",
    "import seaborn as sns\n",
    "import matplotlib.pyplot as plt\n",
    "import warnings\n",
    "import math\n",
    "from sklearn.model_selection import train_test_split\n",
    "from sklearn.ensemble import RandomForestClassifier\n",
    "from sklearn.ensemble import RandomForestRegressor\n",
    "%matplotlib inline\n",
    "%config InlineBackend.figure_format = 'retina'\n",
    "sns.set(color_codes=True)\n",
    "warnings.filterwarnings(\"ignore\")"
   ]
  },
  {
   "cell_type": "code",
   "execution_count": 173,
   "metadata": {},
   "outputs": [],
   "source": [
    "df=pd.read_csv('reviews.csv')"
   ]
  },
  {
   "cell_type": "code",
   "execution_count": 174,
   "metadata": {},
   "outputs": [
    {
     "data": {
      "text/html": "<div>\n<style scoped>\n    .dataframe tbody tr th:only-of-type {\n        vertical-align: middle;\n    }\n\n    .dataframe tbody tr th {\n        vertical-align: top;\n    }\n\n    .dataframe thead th {\n        text-align: right;\n    }\n</style>\n<table border=\"1\" class=\"dataframe\">\n  <thead>\n    <tr style=\"text-align: right;\">\n      <th></th>\n      <th>location_id</th>\n      <th>review_id</th>\n      <th>source</th>\n      <th>date</th>\n      <th>rating</th>\n    </tr>\n  </thead>\n  <tbody>\n    <tr>\n      <th>0</th>\n      <td>4962_221</td>\n      <td>test_1895327047</td>\n      <td>GOOGLE_PLACES</td>\n      <td>10/20/15</td>\n      <td>1.0</td>\n    </tr>\n    <tr>\n      <th>1</th>\n      <td>4962_221</td>\n      <td>test_18961550118</td>\n      <td>FACEBOOK</td>\n      <td>11/27/17</td>\n      <td>1.0</td>\n    </tr>\n    <tr>\n      <th>2</th>\n      <td>4962_221</td>\n      <td>test_2044312531</td>\n      <td>FACEBOOK</td>\n      <td>11/15/17</td>\n      <td>1.0</td>\n    </tr>\n    <tr>\n      <th>3</th>\n      <td>4962_221</td>\n      <td>test_21399832280</td>\n      <td>FACEBOOK</td>\n      <td>7/17/17</td>\n      <td>1.0</td>\n    </tr>\n    <tr>\n      <th>4</th>\n      <td>4962_221</td>\n      <td>test_21516225526</td>\n      <td>FACEBOOK</td>\n      <td>1/11/16</td>\n      <td>1.0</td>\n    </tr>\n  </tbody>\n</table>\n</div>",
      "text/plain": "  location_id         review_id         source      date  rating\n0    4962_221   test_1895327047  GOOGLE_PLACES  10/20/15     1.0\n1    4962_221  test_18961550118       FACEBOOK  11/27/17     1.0\n2    4962_221   test_2044312531       FACEBOOK  11/15/17     1.0\n3    4962_221  test_21399832280       FACEBOOK   7/17/17     1.0\n4    4962_221  test_21516225526       FACEBOOK   1/11/16     1.0"
     },
     "execution_count": 174,
     "metadata": {},
     "output_type": "execute_result"
    }
   ],
   "source": [
    "df.head()"
   ]
  },
  {
   "cell_type": "code",
   "execution_count": 175,
   "metadata": {},
   "outputs": [
    {
     "name": "stdout",
     "output_type": "stream",
     "text": "<class 'pandas.core.frame.DataFrame'>\nRangeIndex: 179345 entries, 0 to 179344\nData columns (total 5 columns):\n #   Column       Non-Null Count   Dtype  \n---  ------       --------------   -----  \n 0   location_id  179345 non-null  object \n 1   review_id    179345 non-null  object \n 2   source       179345 non-null  object \n 3   date         179345 non-null  object \n 4   rating       179276 non-null  float64\ndtypes: float64(1), object(4)\nmemory usage: 6.8+ MB\n"
    }
   ],
   "source": [
    "df.info()"
   ]
  },
  {
   "cell_type": "code",
   "execution_count": 176,
   "metadata": {},
   "outputs": [],
   "source": [
    "df.dropna(inplace=True)"
   ]
  },
  {
   "cell_type": "code",
   "execution_count": 178,
   "metadata": {},
   "outputs": [],
   "source": [
    "df.date=pd.to_datetime(df.date)"
   ]
  },
  {
   "cell_type": "code",
   "execution_count": 31,
   "metadata": {},
   "outputs": [
    {
     "data": {
      "text/plain": "4.750539956803456"
     },
     "execution_count": 31,
     "metadata": {},
     "output_type": "execute_result"
    }
   ],
   "source": [
    "df[df.location_id=='4962_201'].rating.mean()"
   ]
  },
  {
   "cell_type": "code",
   "execution_count": 32,
   "metadata": {},
   "outputs": [
    {
     "data": {
      "text/plain": "4.669796557120501"
     },
     "execution_count": 32,
     "metadata": {},
     "output_type": "execute_result"
    }
   ],
   "source": [
    "df[df.location_id=='4962_380'].rating.mean()"
   ]
  },
  {
   "cell_type": "markdown",
   "metadata": {},
   "source": [
    "## a\n",
    "* I think the location '4962_201' is better, because it has higher mean rating."
   ]
  },
  {
   "cell_type": "code",
   "execution_count": 33,
   "metadata": {},
   "outputs": [
    {
     "data": {
      "text/plain": "4.554561717352415"
     },
     "execution_count": 33,
     "metadata": {},
     "output_type": "execute_result"
    }
   ],
   "source": [
    "df[df.location_id=='4962_381'].rating.mean()"
   ]
  },
  {
   "cell_type": "code",
   "execution_count": 34,
   "metadata": {},
   "outputs": [
    {
     "data": {
      "text/plain": "4.629558541266794"
     },
     "execution_count": 34,
     "metadata": {},
     "output_type": "execute_result"
    }
   ],
   "source": [
    "df[df.location_id=='4962_915'].rating.mean()"
   ]
  },
  {
   "cell_type": "markdown",
   "metadata": {},
   "source": [
    "## b\n",
    "* I think the location '4962_915' is better, because it has higher mean rating."
   ]
  },
  {
   "cell_type": "code",
   "execution_count": 35,
   "metadata": {},
   "outputs": [
    {
     "data": {
      "text/plain": "array([1., 2., 3., 4., 5.])"
     },
     "execution_count": 35,
     "metadata": {},
     "output_type": "execute_result"
    }
   ],
   "source": [
    "df.rating.unique()"
   ]
  },
  {
   "cell_type": "code",
   "execution_count": 36,
   "metadata": {},
   "outputs": [
    {
     "data": {
      "text/plain": "4962_768    1630\n4962_727     997\n4962_465     992\n4962_402     992\n4962_457     989\n            ... \n4962_557     500\n4962_289     181\n4962_221     120\n4962_147      62\n4962_185      12\nName: location_id, Length: 252, dtype: int64"
     },
     "execution_count": 36,
     "metadata": {},
     "output_type": "execute_result"
    }
   ],
   "source": [
    "df.location_id.value_counts()"
   ]
  },
  {
   "cell_type": "code",
   "execution_count": 37,
   "metadata": {},
   "outputs": [
    {
     "data": {
      "text/plain": "2018-01-31    428\n2018-02-07    423\n2017-06-29    416\n2018-02-06    411\n2018-01-30    407\n             ... \n2015-10-11     25\n2014-05-18     22\n2014-05-11     22\n2014-10-26     19\n2015-03-15     16\nName: date, Length: 1550, dtype: int64"
     },
     "execution_count": 37,
     "metadata": {},
     "output_type": "execute_result"
    }
   ],
   "source": [
    "df.date.value_counts()"
   ]
  },
  {
   "cell_type": "code",
   "execution_count": 38,
   "metadata": {},
   "outputs": [
    {
     "data": {
      "text/plain": "(Timestamp('2018-03-30 00:00:00'), Timestamp('2014-01-01 00:00:00'))"
     },
     "execution_count": 38,
     "metadata": {},
     "output_type": "execute_result"
    }
   ],
   "source": [
    "max(df.date),min(df.date)"
   ]
  },
  {
   "cell_type": "code",
   "execution_count": 39,
   "metadata": {},
   "outputs": [
    {
     "data": {
      "text/html": "<div>\n<style scoped>\n    .dataframe tbody tr th:only-of-type {\n        vertical-align: middle;\n    }\n\n    .dataframe tbody tr th {\n        vertical-align: top;\n    }\n\n    .dataframe thead th {\n        text-align: right;\n    }\n</style>\n<table border=\"1\" class=\"dataframe\">\n  <thead>\n    <tr style=\"text-align: right;\">\n      <th></th>\n      <th>rating</th>\n    </tr>\n    <tr>\n      <th>source</th>\n      <th></th>\n    </tr>\n  </thead>\n  <tbody>\n    <tr>\n      <th>CARS</th>\n      <td>4.781000</td>\n    </tr>\n    <tr>\n      <th>FACEBOOK</th>\n      <td>4.178708</td>\n    </tr>\n    <tr>\n      <th>GOOGLE_PLACES</th>\n      <td>4.326817</td>\n    </tr>\n  </tbody>\n</table>\n</div>",
      "text/plain": "                 rating\nsource                 \nCARS           4.781000\nFACEBOOK       4.178708\nGOOGLE_PLACES  4.326817"
     },
     "execution_count": 39,
     "metadata": {},
     "output_type": "execute_result"
    }
   ],
   "source": [
    "df.groupby('source').mean()"
   ]
  },
  {
   "cell_type": "code",
   "execution_count": 40,
   "metadata": {},
   "outputs": [
    {
     "data": {
      "text/html": "<div>\n<style scoped>\n    .dataframe tbody tr th:only-of-type {\n        vertical-align: middle;\n    }\n\n    .dataframe tbody tr th {\n        vertical-align: top;\n    }\n\n    .dataframe thead th {\n        text-align: right;\n    }\n</style>\n<table border=\"1\" class=\"dataframe\">\n  <thead>\n    <tr style=\"text-align: right;\">\n      <th></th>\n      <th>location_id</th>\n      <th>review_id</th>\n      <th>date</th>\n      <th>rating</th>\n    </tr>\n    <tr>\n      <th>source</th>\n      <th></th>\n      <th></th>\n      <th></th>\n      <th></th>\n    </tr>\n  </thead>\n  <tbody>\n    <tr>\n      <th>CARS</th>\n      <td>43041</td>\n      <td>43041</td>\n      <td>43041</td>\n      <td>43041</td>\n    </tr>\n    <tr>\n      <th>FACEBOOK</th>\n      <td>26507</td>\n      <td>26507</td>\n      <td>26507</td>\n      <td>26507</td>\n    </tr>\n    <tr>\n      <th>GOOGLE_PLACES</th>\n      <td>109728</td>\n      <td>109728</td>\n      <td>109728</td>\n      <td>109728</td>\n    </tr>\n  </tbody>\n</table>\n</div>",
      "text/plain": "               location_id  review_id    date  rating\nsource                                               \nCARS                 43041      43041   43041   43041\nFACEBOOK             26507      26507   26507   26507\nGOOGLE_PLACES       109728     109728  109728  109728"
     },
     "execution_count": 40,
     "metadata": {},
     "output_type": "execute_result"
    }
   ],
   "source": [
    "df.groupby('source').count()"
   ]
  },
  {
   "cell_type": "code",
   "execution_count": 41,
   "metadata": {},
   "outputs": [
    {
     "data": {
      "text/html": "<div>\n<style scoped>\n    .dataframe tbody tr th:only-of-type {\n        vertical-align: middle;\n    }\n\n    .dataframe tbody tr th {\n        vertical-align: top;\n    }\n\n    .dataframe thead th {\n        text-align: right;\n    }\n</style>\n<table border=\"1\" class=\"dataframe\">\n  <thead>\n    <tr style=\"text-align: right;\">\n      <th></th>\n      <th>rating</th>\n    </tr>\n    <tr>\n      <th>location_id</th>\n      <th></th>\n    </tr>\n  </thead>\n  <tbody>\n    <tr>\n      <th>4962_10</th>\n      <td>4.410653</td>\n    </tr>\n    <tr>\n      <th>4962_1000</th>\n      <td>4.462575</td>\n    </tr>\n    <tr>\n      <th>4962_1005</th>\n      <td>4.369085</td>\n    </tr>\n    <tr>\n      <th>4962_101</th>\n      <td>4.104953</td>\n    </tr>\n    <tr>\n      <th>4962_103</th>\n      <td>4.279449</td>\n    </tr>\n    <tr>\n      <th>...</th>\n      <td>...</td>\n    </tr>\n    <tr>\n      <th>4962_985</th>\n      <td>4.503077</td>\n    </tr>\n    <tr>\n      <th>4962_987</th>\n      <td>4.645022</td>\n    </tr>\n    <tr>\n      <th>4962_988</th>\n      <td>4.588621</td>\n    </tr>\n    <tr>\n      <th>4962_990</th>\n      <td>4.616242</td>\n    </tr>\n    <tr>\n      <th>4962_993</th>\n      <td>4.397188</td>\n    </tr>\n  </tbody>\n</table>\n<p>252 rows × 1 columns</p>\n</div>",
      "text/plain": "               rating\nlocation_id          \n4962_10      4.410653\n4962_1000    4.462575\n4962_1005    4.369085\n4962_101     4.104953\n4962_103     4.279449\n...               ...\n4962_985     4.503077\n4962_987     4.645022\n4962_988     4.588621\n4962_990     4.616242\n4962_993     4.397188\n\n[252 rows x 1 columns]"
     },
     "execution_count": 41,
     "metadata": {},
     "output_type": "execute_result"
    }
   ],
   "source": [
    "df.groupby('location_id').mean()"
   ]
  },
  {
   "cell_type": "code",
   "execution_count": 42,
   "metadata": {},
   "outputs": [
    {
     "data": {
      "text/html": "<div>\n<style scoped>\n    .dataframe tbody tr th:only-of-type {\n        vertical-align: middle;\n    }\n\n    .dataframe tbody tr th {\n        vertical-align: top;\n    }\n\n    .dataframe thead th {\n        text-align: right;\n    }\n</style>\n<table border=\"1\" class=\"dataframe\">\n  <thead>\n    <tr style=\"text-align: right;\">\n      <th></th>\n      <th></th>\n      <th>rating</th>\n    </tr>\n    <tr>\n      <th>location_id</th>\n      <th>source</th>\n      <th></th>\n    </tr>\n  </thead>\n  <tbody>\n    <tr>\n      <th rowspan=\"3\" valign=\"top\">4962_10</th>\n      <th>CARS</th>\n      <td>4.616279</td>\n    </tr>\n    <tr>\n      <th>FACEBOOK</th>\n      <td>4.357143</td>\n    </tr>\n    <tr>\n      <th>GOOGLE_PLACES</th>\n      <td>4.385350</td>\n    </tr>\n    <tr>\n      <th rowspan=\"2\" valign=\"top\">4962_1000</th>\n      <th>CARS</th>\n      <td>4.875817</td>\n    </tr>\n    <tr>\n      <th>FACEBOOK</th>\n      <td>4.080000</td>\n    </tr>\n    <tr>\n      <th>...</th>\n      <th>...</th>\n      <td>...</td>\n    </tr>\n    <tr>\n      <th rowspan=\"2\" valign=\"top\">4962_990</th>\n      <th>FACEBOOK</th>\n      <td>4.456000</td>\n    </tr>\n    <tr>\n      <th>GOOGLE_PLACES</th>\n      <td>4.334884</td>\n    </tr>\n    <tr>\n      <th rowspan=\"3\" valign=\"top\">4962_993</th>\n      <th>CARS</th>\n      <td>4.693182</td>\n    </tr>\n    <tr>\n      <th>FACEBOOK</th>\n      <td>4.220183</td>\n    </tr>\n    <tr>\n      <th>GOOGLE_PLACES</th>\n      <td>4.379032</td>\n    </tr>\n  </tbody>\n</table>\n<p>695 rows × 1 columns</p>\n</div>",
      "text/plain": "                             rating\nlocation_id source                 \n4962_10     CARS           4.616279\n            FACEBOOK       4.357143\n            GOOGLE_PLACES  4.385350\n4962_1000   CARS           4.875817\n            FACEBOOK       4.080000\n...                             ...\n4962_990    FACEBOOK       4.456000\n            GOOGLE_PLACES  4.334884\n4962_993    CARS           4.693182\n            FACEBOOK       4.220183\n            GOOGLE_PLACES  4.379032\n\n[695 rows x 1 columns]"
     },
     "execution_count": 42,
     "metadata": {},
     "output_type": "execute_result"
    }
   ],
   "source": [
    "df.groupby(['location_id','source']).mean()"
   ]
  },
  {
   "cell_type": "code",
   "execution_count": 43,
   "metadata": {},
   "outputs": [
    {
     "data": {
      "text/plain": "<matplotlib.axes._subplots.AxesSubplot at 0x13ab6408a08>"
     },
     "execution_count": 43,
     "metadata": {},
     "output_type": "execute_result"
    },
    {
     "data": {
      "image/png": "[encoded data removed]",
      "text/plain": "<Figure size 432x288 with 1 Axes>"
     },
     "metadata": {
      "image/png": {
       "height": 269,
       "width": 380
      }
     },
     "output_type": "display_data"
    }
   ],
   "source": [
    "source=df.groupby('source').mean()\n",
    "sns.barplot(source.index,source.rating)"
   ]
  },
  {
   "cell_type": "code",
   "execution_count": 44,
   "metadata": {},
   "outputs": [
    {
     "data": {
      "text/plain": "<matplotlib.axes._subplots.AxesSubplot at 0x13ab7a19e08>"
     },
     "execution_count": 44,
     "metadata": {},
     "output_type": "execute_result"
    },
    {
     "data": {
      "image/png": "[encoded data removed]",
      "text/plain": "<Figure size 432x288 with 1 Axes>"
     },
     "metadata": {
      "image/png": {
       "height": 266,
       "width": 410
      }
     },
     "output_type": "display_data"
    }
   ],
   "source": [
    "rating=df.groupby('rating').count()\n",
    "sns.barplot(rating.index,rating.source)"
   ]
  },
  {
   "cell_type": "code",
   "execution_count": 45,
   "metadata": {},
   "outputs": [
    {
     "data": {
      "text/html": "<div>\n<style scoped>\n    .dataframe tbody tr th:only-of-type {\n        vertical-align: middle;\n    }\n\n    .dataframe tbody tr th {\n        vertical-align: top;\n    }\n\n    .dataframe thead th {\n        text-align: right;\n    }\n</style>\n<table border=\"1\" class=\"dataframe\">\n  <thead>\n    <tr style=\"text-align: right;\">\n      <th></th>\n      <th></th>\n      <th>review_id</th>\n      <th>source</th>\n      <th>date</th>\n    </tr>\n    <tr>\n      <th>location_id</th>\n      <th>rating</th>\n      <th></th>\n      <th></th>\n      <th></th>\n    </tr>\n  </thead>\n  <tbody>\n    <tr>\n      <th rowspan=\"5\" valign=\"top\">4962_10</th>\n      <th>1.0</th>\n      <td>64</td>\n      <td>64</td>\n      <td>64</td>\n    </tr>\n    <tr>\n      <th>2.0</th>\n      <td>8</td>\n      <td>8</td>\n      <td>8</td>\n    </tr>\n    <tr>\n      <th>3.0</th>\n      <td>17</td>\n      <td>17</td>\n      <td>17</td>\n    </tr>\n    <tr>\n      <th>4.0</th>\n      <td>29</td>\n      <td>29</td>\n      <td>29</td>\n    </tr>\n    <tr>\n      <th>5.0</th>\n      <td>464</td>\n      <td>464</td>\n      <td>464</td>\n    </tr>\n    <tr>\n      <th>...</th>\n      <th>...</th>\n      <td>...</td>\n      <td>...</td>\n      <td>...</td>\n    </tr>\n    <tr>\n      <th rowspan=\"5\" valign=\"top\">4962_993</th>\n      <th>1.0</th>\n      <td>48</td>\n      <td>48</td>\n      <td>48</td>\n    </tr>\n    <tr>\n      <th>2.0</th>\n      <td>9</td>\n      <td>9</td>\n      <td>9</td>\n    </tr>\n    <tr>\n      <th>3.0</th>\n      <td>26</td>\n      <td>26</td>\n      <td>26</td>\n    </tr>\n    <tr>\n      <th>4.0</th>\n      <td>72</td>\n      <td>72</td>\n      <td>72</td>\n    </tr>\n    <tr>\n      <th>5.0</th>\n      <td>414</td>\n      <td>414</td>\n      <td>414</td>\n    </tr>\n  </tbody>\n</table>\n<p>1255 rows × 3 columns</p>\n</div>",
      "text/plain": "                    review_id  source  date\nlocation_id rating                         \n4962_10     1.0            64      64    64\n            2.0             8       8     8\n            3.0            17      17    17\n            4.0            29      29    29\n            5.0           464     464   464\n...                       ...     ...   ...\n4962_993    1.0            48      48    48\n            2.0             9       9     9\n            3.0            26      26    26\n            4.0            72      72    72\n            5.0           414     414   414\n\n[1255 rows x 3 columns]"
     },
     "execution_count": 45,
     "metadata": {},
     "output_type": "execute_result"
    }
   ],
   "source": [
    "df.groupby(['location_id','rating']).count()"
   ]
  },
  {
   "cell_type": "markdown",
   "metadata": {},
   "source": [
    "## c\n",
    "Since there is no obvious trend for the rating, I descide to use the good rating rate to estimate the rank of the locations. Here, I define ratings above 4 as good rating and I calculate its rate in the location. Because from the above plots we can see that most of the rating is 5, I conclude that if people it is a good location, they will give a 5 score rating. "
   ]
  },
  {
   "cell_type": "code",
   "execution_count": 46,
   "metadata": {},
   "outputs": [],
   "source": [
    "def rate(nums):\n",
    "    l=len(nums)\n",
    "    r4=sum(nums==4)/l\n",
    "    r5=sum(nums==5)/l\n",
    "    return r4+r5 "
   ]
  },
  {
   "cell_type": "markdown",
   "metadata": {},
   "source": [
    "* Above is the formula"
   ]
  },
  {
   "cell_type": "code",
   "execution_count": 47,
   "metadata": {},
   "outputs": [],
   "source": [
    "d={}\n",
    "for l in df.location_id.unique():\n",
    "    d[l]=rate(df[df.location_id==l].rating)\n",
    "dm=pd.DataFrame.from_dict(d,orient='index', columns=['rating']).reset_index()"
   ]
  },
  {
   "cell_type": "markdown",
   "metadata": {},
   "source": [
    "* Here is the ranking result"
   ]
  },
  {
   "cell_type": "code",
   "execution_count": 48,
   "metadata": {},
   "outputs": [
    {
     "data": {
      "text/html": "<div>\n<style scoped>\n    .dataframe tbody tr th:only-of-type {\n        vertical-align: middle;\n    }\n\n    .dataframe tbody tr th {\n        vertical-align: top;\n    }\n\n    .dataframe thead th {\n        text-align: right;\n    }\n</style>\n<table border=\"1\" class=\"dataframe\">\n  <thead>\n    <tr style=\"text-align: right;\">\n      <th></th>\n      <th>location_id</th>\n      <th>rating</th>\n      <th>rank</th>\n    </tr>\n  </thead>\n  <tbody>\n    <tr>\n      <th>151</th>\n      <td>4962_597</td>\n      <td>0.993557</td>\n      <td>1.0</td>\n    </tr>\n    <tr>\n      <th>248</th>\n      <td>4962_131</td>\n      <td>0.982143</td>\n      <td>2.0</td>\n    </tr>\n    <tr>\n      <th>243</th>\n      <td>4962_435</td>\n      <td>0.981339</td>\n      <td>3.0</td>\n    </tr>\n    <tr>\n      <th>207</th>\n      <td>4962_343</td>\n      <td>0.969432</td>\n      <td>4.0</td>\n    </tr>\n    <tr>\n      <th>241</th>\n      <td>4962_917</td>\n      <td>0.964335</td>\n      <td>5.0</td>\n    </tr>\n    <tr>\n      <th>...</th>\n      <td>...</td>\n      <td>...</td>\n      <td>...</td>\n    </tr>\n    <tr>\n      <th>89</th>\n      <td>4962_267</td>\n      <td>0.701342</td>\n      <td>248.0</td>\n    </tr>\n    <tr>\n      <th>110</th>\n      <td>4962_733</td>\n      <td>0.690377</td>\n      <td>249.0</td>\n    </tr>\n    <tr>\n      <th>17</th>\n      <td>4962_935</td>\n      <td>0.633628</td>\n      <td>250.0</td>\n    </tr>\n    <tr>\n      <th>5</th>\n      <td>4962_934</td>\n      <td>0.593199</td>\n      <td>251.0</td>\n    </tr>\n    <tr>\n      <th>66</th>\n      <td>4962_124</td>\n      <td>0.475870</td>\n      <td>252.0</td>\n    </tr>\n  </tbody>\n</table>\n<p>252 rows × 3 columns</p>\n</div>",
      "text/plain": "    location_id    rating   rank\n151    4962_597  0.993557    1.0\n248    4962_131  0.982143    2.0\n243    4962_435  0.981339    3.0\n207    4962_343  0.969432    4.0\n241    4962_917  0.964335    5.0\n..          ...       ...    ...\n89     4962_267  0.701342  248.0\n110    4962_733  0.690377  249.0\n17     4962_935  0.633628  250.0\n5      4962_934  0.593199  251.0\n66     4962_124  0.475870  252.0\n\n[252 rows x 3 columns]"
     },
     "execution_count": 48,
     "metadata": {},
     "output_type": "execute_result"
    }
   ],
   "source": [
    "dm['rank']=dm.rating.rank(ascending=False)\n",
    "dm.rename(columns={'index':'location_id'},inplace=True)\n",
    "dm.sort_values(by='rating', ascending=False)"
   ]
  },
  {
   "cell_type": "markdown",
   "metadata": {},
   "source": [
    "## d\n",
    "In this case, I would include the reviewers' comment data. I can do some NLP process. Then, I can make conclusion with the result of comment analysis and the rating. I think this would be more accurate to determine the rank of locations across the US."
   ]
  },
  {
   "cell_type": "code",
   "execution_count": 198,
   "metadata": {},
   "outputs": [],
   "source": [
    "dt=pd.read_csv('test_reviews.csv')"
   ]
  },
  {
   "cell_type": "code",
   "execution_count": 50,
   "metadata": {},
   "outputs": [
    {
     "data": {
      "text/html": "<div>\n<style scoped>\n    .dataframe tbody tr th:only-of-type {\n        vertical-align: middle;\n    }\n\n    .dataframe tbody tr th {\n        vertical-align: top;\n    }\n\n    .dataframe thead th {\n        text-align: right;\n    }\n</style>\n<table border=\"1\" class=\"dataframe\">\n  <thead>\n    <tr style=\"text-align: right;\">\n      <th></th>\n      <th>location_id</th>\n      <th>review_id</th>\n      <th>source</th>\n      <th>date</th>\n      <th>rating</th>\n    </tr>\n  </thead>\n  <tbody>\n    <tr>\n      <th>0</th>\n      <td>4962_147</td>\n      <td>test_10368849285</td>\n      <td>FACEBOOK</td>\n      <td>12/4/15</td>\n      <td>NaN</td>\n    </tr>\n    <tr>\n      <th>1</th>\n      <td>4962_147</td>\n      <td>test_1042394214</td>\n      <td>FACEBOOK</td>\n      <td>11/29/16</td>\n      <td>NaN</td>\n    </tr>\n    <tr>\n      <th>2</th>\n      <td>4962_185</td>\n      <td>test_11322162891</td>\n      <td>GOOGLE_PLACES</td>\n      <td>8/3/16</td>\n      <td>NaN</td>\n    </tr>\n    <tr>\n      <th>3</th>\n      <td>4962_185</td>\n      <td>test_11324660949</td>\n      <td>GOOGLE_PLACES</td>\n      <td>2/3/18</td>\n      <td>NaN</td>\n    </tr>\n    <tr>\n      <th>4</th>\n      <td>4962_185</td>\n      <td>test_11348252095</td>\n      <td>GOOGLE_PLACES</td>\n      <td>2/12/16</td>\n      <td>NaN</td>\n    </tr>\n  </tbody>\n</table>\n</div>",
      "text/plain": "  location_id         review_id         source      date  rating\n0    4962_147  test_10368849285       FACEBOOK   12/4/15     NaN\n1    4962_147   test_1042394214       FACEBOOK  11/29/16     NaN\n2    4962_185  test_11322162891  GOOGLE_PLACES    8/3/16     NaN\n3    4962_185  test_11324660949  GOOGLE_PLACES    2/3/18     NaN\n4    4962_185  test_11348252095  GOOGLE_PLACES   2/12/16     NaN"
     },
     "execution_count": 50,
     "metadata": {},
     "output_type": "execute_result"
    }
   ],
   "source": [
    "dt.head()"
   ]
  },
  {
   "cell_type": "code",
   "execution_count": 58,
   "metadata": {},
   "outputs": [
    {
     "name": "stdout",
     "output_type": "stream",
     "text": "<class 'pandas.core.frame.DataFrame'>\nInt64Index: 1124 entries, 0 to 1386\nData columns (total 5 columns):\n #   Column       Non-Null Count  Dtype  \n---  ------       --------------  -----  \n 0   location_id  1124 non-null   object \n 1   review_id    1124 non-null   object \n 2   source       1124 non-null   object \n 3   date         1124 non-null   object \n 4   rating       0 non-null      float64\ndtypes: float64(1), object(4)\nmemory usage: 52.7+ KB\n"
    }
   ],
   "source": [
    "dt.info()"
   ]
  },
  {
   "cell_type": "code",
   "execution_count": 199,
   "metadata": {},
   "outputs": [],
   "source": [
    "dt=dt[dt.location_id.notnull()]"
   ]
  },
  {
   "cell_type": "code",
   "execution_count": 59,
   "metadata": {},
   "outputs": [
    {
     "name": "stdout",
     "output_type": "stream",
     "text": "<class 'pandas.core.frame.DataFrame'>\nInt64Index: 1124 entries, 0 to 1386\nData columns (total 5 columns):\n #   Column       Non-Null Count  Dtype  \n---  ------       --------------  -----  \n 0   location_id  1124 non-null   object \n 1   review_id    1124 non-null   object \n 2   source       1124 non-null   object \n 3   date         1124 non-null   object \n 4   rating       0 non-null      float64\ndtypes: float64(1), object(4)\nmemory usage: 52.7+ KB\n"
    }
   ],
   "source": [
    "dt.info()"
   ]
  },
  {
   "cell_type": "code",
   "execution_count": 200,
   "metadata": {},
   "outputs": [],
   "source": [
    "dt.date=pd.to_datetime(dt.date)"
   ]
  },
  {
   "cell_type": "code",
   "execution_count": 269,
   "metadata": {},
   "outputs": [],
   "source": [
    "df=pd.read_csv('reviews.csv')\n",
    "df.dropna(inplace=True)\n",
    "df.date=pd.to_datetime(df.date)"
   ]
  },
  {
   "cell_type": "code",
   "execution_count": 270,
   "metadata": {},
   "outputs": [],
   "source": [
    "df['month']=[t.month for t in df.date]\n",
    "df['year']=[t.year for t in df.date]\n",
    "#df['day']=[t.day for t in df.date]\n",
    "df['week']=[t.weekday() for t in df.date]\n",
    "df=df.join(pd.get_dummies(df.source, prefix='source'))"
   ]
  },
  {
   "cell_type": "code",
   "execution_count": 271,
   "metadata": {},
   "outputs": [],
   "source": [
    "feature=list(df.columns[5:])\n",
    "features = np.array(df[feature])\n",
    "labels = np.array(df.rating)\n",
    "train_features, test_features, train_labels, test_labels = train_test_split(features, labels, test_size = 0.3, random_state = 42)"
   ]
  },
  {
   "cell_type": "code",
   "execution_count": 272,
   "metadata": {},
   "outputs": [
    {
     "name": "stdout",
     "output_type": "stream",
     "text": "Training Features Shape: (125493, 6)\nTraining Labels Shape: (125493,)\nTesting Features Shape: (53783, 6)\nTesting Labels Shape: (53783,)\n"
    }
   ],
   "source": [
    "print('Training Features Shape:', train_features.shape)\n",
    "print('Training Labels Shape:', train_labels.shape)\n",
    "print('Testing Features Shape:', test_features.shape)\n",
    "print('Testing Labels Shape:', test_labels.shape)"
   ]
  },
  {
   "cell_type": "code",
   "execution_count": 274,
   "metadata": {},
   "outputs": [
    {
     "data": {
      "text/plain": "RandomForestClassifier(bootstrap=True, ccp_alpha=0.0, class_weight=None,\n                       criterion='gini', max_depth=None, max_features='auto',\n                       max_leaf_nodes=None, max_samples=None,\n                       min_impurity_decrease=0.0, min_impurity_split=None,\n                       min_samples_leaf=1, min_samples_split=2,\n                       min_weight_fraction_leaf=0.0, n_estimators=100,\n                       n_jobs=None, oob_score=False, random_state=None,\n                       verbose=0, warm_start=False)"
     },
     "execution_count": 274,
     "metadata": {},
     "output_type": "execute_result"
    }
   ],
   "source": [
    "rf = RandomForestClassifier()\n",
    "rf.fit(train_features, train_labels)"
   ]
  },
  {
   "cell_type": "code",
   "execution_count": 275,
   "metadata": {},
   "outputs": [
    {
     "name": "stdout",
     "output_type": "stream",
     "text": "Accuracy: 0.7823 %.\n"
    }
   ],
   "source": [
    "pred=rf.predict(test_features)\n",
    "accuracy = sum(pred==test_labels)/len(test_labels)\n",
    "print('Accuracy:', round(accuracy, 4), '%.')"
   ]
  },
  {
   "cell_type": "code",
   "execution_count": 276,
   "metadata": {},
   "outputs": [
    {
     "data": {
      "text/plain": "array([0.25558422, 0.12109375, 0.17300907, 0.2615642 , 0.07335494,\n       0.11539382])"
     },
     "execution_count": 276,
     "metadata": {},
     "output_type": "execute_result"
    }
   ],
   "source": [
    "rf.feature_importances_"
   ]
  },
  {
   "cell_type": "code",
   "execution_count": 277,
   "metadata": {},
   "outputs": [],
   "source": [
    "dtr=pd.read_csv('test_reviews.csv')\n",
    "dtr=dtr[dtr.location_id.notnull()]\n",
    "dtr.date=pd.to_datetime(dtr.date)\n",
    "dt=dtr.copy()"
   ]
  },
  {
   "cell_type": "code",
   "execution_count": 278,
   "metadata": {},
   "outputs": [],
   "source": [
    "dt['month']=[t.month for t in dt.date]\n",
    "dt['year']=[t.year for t in dt.date]\n",
    "#dt['day']=[t.day for t in dt.date]\n",
    "dt['week']=[t.weekday() for t in dt.date]\n",
    "dt=dt.join(pd.get_dummies(dt.source, prefix='source'))"
   ]
  },
  {
   "cell_type": "code",
   "execution_count": 279,
   "metadata": {},
   "outputs": [],
   "source": [
    "tfeature=list(dt.columns[5:])\n",
    "tfeatures = np.array(dt[tfeature])"
   ]
  },
  {
   "cell_type": "code",
   "execution_count": 280,
   "metadata": {},
   "outputs": [],
   "source": [
    "pred=rf.predict(tfeatures)"
   ]
  },
  {
   "cell_type": "code",
   "execution_count": 281,
   "metadata": {},
   "outputs": [],
   "source": [
    "dtr['rating']=pred"
   ]
  },
  {
   "cell_type": "code",
   "execution_count": 282,
   "metadata": {},
   "outputs": [
    {
     "data": {
      "text/html": "<div>\n<style scoped>\n    .dataframe tbody tr th:only-of-type {\n        vertical-align: middle;\n    }\n\n    .dataframe tbody tr th {\n        vertical-align: top;\n    }\n\n    .dataframe thead th {\n        text-align: right;\n    }\n</style>\n<table border=\"1\" class=\"dataframe\">\n  <thead>\n    <tr style=\"text-align: right;\">\n      <th></th>\n      <th>location_id</th>\n      <th>review_id</th>\n      <th>source</th>\n      <th>date</th>\n      <th>rating</th>\n    </tr>\n  </thead>\n  <tbody>\n    <tr>\n      <th>0</th>\n      <td>4962_147</td>\n      <td>test_10368849285</td>\n      <td>FACEBOOK</td>\n      <td>2015-12-04</td>\n      <td>5.0</td>\n    </tr>\n    <tr>\n      <th>1</th>\n      <td>4962_147</td>\n      <td>test_1042394214</td>\n      <td>FACEBOOK</td>\n      <td>2016-11-29</td>\n      <td>5.0</td>\n    </tr>\n    <tr>\n      <th>2</th>\n      <td>4962_185</td>\n      <td>test_11322162891</td>\n      <td>GOOGLE_PLACES</td>\n      <td>2016-08-03</td>\n      <td>5.0</td>\n    </tr>\n    <tr>\n      <th>3</th>\n      <td>4962_185</td>\n      <td>test_11324660949</td>\n      <td>GOOGLE_PLACES</td>\n      <td>2018-02-03</td>\n      <td>5.0</td>\n    </tr>\n    <tr>\n      <th>4</th>\n      <td>4962_185</td>\n      <td>test_11348252095</td>\n      <td>GOOGLE_PLACES</td>\n      <td>2016-02-12</td>\n      <td>5.0</td>\n    </tr>\n    <tr>\n      <th>...</th>\n      <td>...</td>\n      <td>...</td>\n      <td>...</td>\n      <td>...</td>\n      <td>...</td>\n    </tr>\n    <tr>\n      <th>1382</th>\n      <td>4962_185</td>\n      <td>test_8192867949</td>\n      <td>FACEBOOK</td>\n      <td>2017-11-10</td>\n      <td>5.0</td>\n    </tr>\n    <tr>\n      <th>1383</th>\n      <td>4962_185</td>\n      <td>test_8193238229</td>\n      <td>FACEBOOK</td>\n      <td>2016-11-18</td>\n      <td>5.0</td>\n    </tr>\n    <tr>\n      <th>1384</th>\n      <td>4962_185</td>\n      <td>test_8218201172</td>\n      <td>FACEBOOK</td>\n      <td>2016-07-19</td>\n      <td>5.0</td>\n    </tr>\n    <tr>\n      <th>1385</th>\n      <td>4962_185</td>\n      <td>test_8219378940</td>\n      <td>FACEBOOK</td>\n      <td>2017-12-04</td>\n      <td>5.0</td>\n    </tr>\n    <tr>\n      <th>1386</th>\n      <td>4962_185</td>\n      <td>test_8245807617</td>\n      <td>FACEBOOK</td>\n      <td>2014-01-23</td>\n      <td>5.0</td>\n    </tr>\n  </tbody>\n</table>\n<p>1124 rows × 5 columns</p>\n</div>",
      "text/plain": "     location_id         review_id         source       date  rating\n0       4962_147  test_10368849285       FACEBOOK 2015-12-04     5.0\n1       4962_147   test_1042394214       FACEBOOK 2016-11-29     5.0\n2       4962_185  test_11322162891  GOOGLE_PLACES 2016-08-03     5.0\n3       4962_185  test_11324660949  GOOGLE_PLACES 2018-02-03     5.0\n4       4962_185  test_11348252095  GOOGLE_PLACES 2016-02-12     5.0\n...          ...               ...            ...        ...     ...\n1382    4962_185   test_8192867949       FACEBOOK 2017-11-10     5.0\n1383    4962_185   test_8193238229       FACEBOOK 2016-11-18     5.0\n1384    4962_185   test_8218201172       FACEBOOK 2016-07-19     5.0\n1385    4962_185   test_8219378940       FACEBOOK 2017-12-04     5.0\n1386    4962_185   test_8245807617       FACEBOOK 2014-01-23     5.0\n\n[1124 rows x 5 columns]"
     },
     "execution_count": 282,
     "metadata": {},
     "output_type": "execute_result"
    }
   ],
   "source": [
    "dtr"
   ]
  },
  {
   "cell_type": "code",
   "execution_count": null,
   "metadata": {},
   "outputs": [],
   "source": []
  }
 ]
}