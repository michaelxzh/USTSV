{
 "nbformat": 4,
 "nbformat_minor": 2,
 "metadata": {
  "language_info": {
   "name": "python",
   "codemirror_mode": {
    "name": "ipython",
    "version": 3
   },
   "version": "3.7.6-final"
  },
  "orig_nbformat": 2,
  "file_extension": ".py",
  "mimetype": "text/x-python",
  "name": "python",
  "npconvert_exporter": "python",
  "pygments_lexer": "ipython3",
  "version": 3,
  "kernelspec": {
   "name": "python37664bitbaseconda354623a4716f4d89bba91d13f4da92bd",
   "display_name": "Python 3.7.6 64-bit ('base': conda)"
  }
 },
 "cells": [
  {
   "cell_type": "code",
   "execution_count": 9,
   "metadata": {},
   "outputs": [],
   "source": [
    "import pandas as pd\n",
    "from datetime import datetime"
   ]
  },
  {
   "cell_type": "code",
   "execution_count": 10,
   "metadata": {},
   "outputs": [],
   "source": [
    "df=pd.read_csv('ustsv_data_thc.csv')"
   ]
  },
  {
   "cell_type": "code",
   "execution_count": 11,
   "metadata": {},
   "outputs": [
    {
     "data": {
      "text/html": "<div>\n<style scoped>\n    .dataframe tbody tr th:only-of-type {\n        vertical-align: middle;\n    }\n\n    .dataframe tbody tr th {\n        vertical-align: top;\n    }\n\n    .dataframe thead th {\n        text-align: right;\n    }\n</style>\n<table border=\"1\" class=\"dataframe\">\n  <thead>\n    <tr style=\"text-align: right;\">\n      <th></th>\n      <th>event_time</th>\n    </tr>\n  </thead>\n  <tbody>\n    <tr>\n      <th>0</th>\n      <td>2019-12-17T00:00:44</td>\n    </tr>\n    <tr>\n      <th>1</th>\n      <td>2019-12-17T00:01:07</td>\n    </tr>\n    <tr>\n      <th>2</th>\n      <td>2019-12-17T00:01:13</td>\n    </tr>\n    <tr>\n      <th>3</th>\n      <td>2019-12-17T00:01:14</td>\n    </tr>\n    <tr>\n      <th>4</th>\n      <td>2019-12-17T00:01:14</td>\n    </tr>\n  </tbody>\n</table>\n</div>",
      "text/plain": "            event_time\n0  2019-12-17T00:00:44\n1  2019-12-17T00:01:07\n2  2019-12-17T00:01:13\n3  2019-12-17T00:01:14\n4  2019-12-17T00:01:14"
     },
     "execution_count": 11,
     "metadata": {},
     "output_type": "execute_result"
    }
   ],
   "source": [
    "df.head()"
   ]
  },
  {
   "cell_type": "code",
   "execution_count": 12,
   "metadata": {},
   "outputs": [],
   "source": [
    "df.event_time=pd.to_datetime(df.event_time).sort_values()"
   ]
  },
  {
   "cell_type": "code",
   "execution_count": 13,
   "metadata": {},
   "outputs": [],
   "source": [
    "def time_sort(time):\n",
    "    l=[int(t.timestamp()) for t in time]\n",
    "    i=j=0\n",
    "    while j < len(l):\n",
    "        if l[i]==l[j]:\n",
    "            l[j]=l[i]+j-i\n",
    "            j+=1\n",
    "        else:\n",
    "            i=j\n",
    "    return [datetime.utcfromtimestamp(t).strftime('%Y-%m-%d %H:%M:%S') for t in l]"
   ]
  },
  {
   "cell_type": "code",
   "execution_count": 14,
   "metadata": {},
   "outputs": [],
   "source": [
    "n=time_sort(df.event_time)"
   ]
  },
  {
   "cell_type": "code",
   "execution_count": 15,
   "metadata": {},
   "outputs": [],
   "source": [
    "df['new']=n"
   ]
  },
  {
   "cell_type": "code",
   "execution_count": 16,
   "metadata": {},
   "outputs": [],
   "source": [
    "df.to_csv('thc.csv')"
   ]
  }
 ]
}